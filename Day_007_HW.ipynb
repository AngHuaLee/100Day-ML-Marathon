{
 "cells": [
  {
   "cell_type": "markdown",
   "metadata": {},
   "source": [
    "# 作業\n",
    "\n",
    "> 使用 application_train.csv 的資料\n",
    "\n",
    "> 1. 列出 AMT_ANNUITY 的 q0 - q100"
   ]
  },
  {
   "cell_type": "code",
   "execution_count": 1,
   "metadata": {
    "scrolled": true
   },
   "outputs": [
    {
     "name": "stdout",
     "output_type": "stream",
     "text": [
      "Path of read in data: ./data/application_train.csv\n"
     ]
    },
    {
     "data": {
      "text/html": [
       "<div>\n",
       "<style scoped>\n",
       "    .dataframe tbody tr th:only-of-type {\n",
       "        vertical-align: middle;\n",
       "    }\n",
       "\n",
       "    .dataframe tbody tr th {\n",
       "        vertical-align: top;\n",
       "    }\n",
       "\n",
       "    .dataframe thead th {\n",
       "        text-align: right;\n",
       "    }\n",
       "</style>\n",
       "<table border=\"1\" class=\"dataframe\">\n",
       "  <thead>\n",
       "    <tr style=\"text-align: right;\">\n",
       "      <th></th>\n",
       "      <th>SK_ID_CURR</th>\n",
       "      <th>TARGET</th>\n",
       "      <th>NAME_CONTRACT_TYPE</th>\n",
       "      <th>CODE_GENDER</th>\n",
       "      <th>FLAG_OWN_CAR</th>\n",
       "      <th>FLAG_OWN_REALTY</th>\n",
       "      <th>CNT_CHILDREN</th>\n",
       "      <th>AMT_INCOME_TOTAL</th>\n",
       "      <th>AMT_CREDIT</th>\n",
       "      <th>AMT_ANNUITY</th>\n",
       "      <th>...</th>\n",
       "      <th>FLAG_DOCUMENT_18</th>\n",
       "      <th>FLAG_DOCUMENT_19</th>\n",
       "      <th>FLAG_DOCUMENT_20</th>\n",
       "      <th>FLAG_DOCUMENT_21</th>\n",
       "      <th>AMT_REQ_CREDIT_BUREAU_HOUR</th>\n",
       "      <th>AMT_REQ_CREDIT_BUREAU_DAY</th>\n",
       "      <th>AMT_REQ_CREDIT_BUREAU_WEEK</th>\n",
       "      <th>AMT_REQ_CREDIT_BUREAU_MON</th>\n",
       "      <th>AMT_REQ_CREDIT_BUREAU_QRT</th>\n",
       "      <th>AMT_REQ_CREDIT_BUREAU_YEAR</th>\n",
       "    </tr>\n",
       "  </thead>\n",
       "  <tbody>\n",
       "    <tr>\n",
       "      <th>0</th>\n",
       "      <td>100002</td>\n",
       "      <td>1</td>\n",
       "      <td>Cash loans</td>\n",
       "      <td>M</td>\n",
       "      <td>N</td>\n",
       "      <td>Y</td>\n",
       "      <td>0</td>\n",
       "      <td>202500.0</td>\n",
       "      <td>406597.5</td>\n",
       "      <td>24700.5</td>\n",
       "      <td>...</td>\n",
       "      <td>0</td>\n",
       "      <td>0</td>\n",
       "      <td>0</td>\n",
       "      <td>0</td>\n",
       "      <td>0.0</td>\n",
       "      <td>0.0</td>\n",
       "      <td>0.0</td>\n",
       "      <td>0.0</td>\n",
       "      <td>0.0</td>\n",
       "      <td>1.0</td>\n",
       "    </tr>\n",
       "    <tr>\n",
       "      <th>1</th>\n",
       "      <td>100003</td>\n",
       "      <td>0</td>\n",
       "      <td>Cash loans</td>\n",
       "      <td>F</td>\n",
       "      <td>N</td>\n",
       "      <td>N</td>\n",
       "      <td>0</td>\n",
       "      <td>270000.0</td>\n",
       "      <td>1293502.5</td>\n",
       "      <td>35698.5</td>\n",
       "      <td>...</td>\n",
       "      <td>0</td>\n",
       "      <td>0</td>\n",
       "      <td>0</td>\n",
       "      <td>0</td>\n",
       "      <td>0.0</td>\n",
       "      <td>0.0</td>\n",
       "      <td>0.0</td>\n",
       "      <td>0.0</td>\n",
       "      <td>0.0</td>\n",
       "      <td>0.0</td>\n",
       "    </tr>\n",
       "    <tr>\n",
       "      <th>2</th>\n",
       "      <td>100004</td>\n",
       "      <td>0</td>\n",
       "      <td>Revolving loans</td>\n",
       "      <td>M</td>\n",
       "      <td>Y</td>\n",
       "      <td>Y</td>\n",
       "      <td>0</td>\n",
       "      <td>67500.0</td>\n",
       "      <td>135000.0</td>\n",
       "      <td>6750.0</td>\n",
       "      <td>...</td>\n",
       "      <td>0</td>\n",
       "      <td>0</td>\n",
       "      <td>0</td>\n",
       "      <td>0</td>\n",
       "      <td>0.0</td>\n",
       "      <td>0.0</td>\n",
       "      <td>0.0</td>\n",
       "      <td>0.0</td>\n",
       "      <td>0.0</td>\n",
       "      <td>0.0</td>\n",
       "    </tr>\n",
       "    <tr>\n",
       "      <th>3</th>\n",
       "      <td>100006</td>\n",
       "      <td>0</td>\n",
       "      <td>Cash loans</td>\n",
       "      <td>F</td>\n",
       "      <td>N</td>\n",
       "      <td>Y</td>\n",
       "      <td>0</td>\n",
       "      <td>135000.0</td>\n",
       "      <td>312682.5</td>\n",
       "      <td>29686.5</td>\n",
       "      <td>...</td>\n",
       "      <td>0</td>\n",
       "      <td>0</td>\n",
       "      <td>0</td>\n",
       "      <td>0</td>\n",
       "      <td>NaN</td>\n",
       "      <td>NaN</td>\n",
       "      <td>NaN</td>\n",
       "      <td>NaN</td>\n",
       "      <td>NaN</td>\n",
       "      <td>NaN</td>\n",
       "    </tr>\n",
       "    <tr>\n",
       "      <th>4</th>\n",
       "      <td>100007</td>\n",
       "      <td>0</td>\n",
       "      <td>Cash loans</td>\n",
       "      <td>M</td>\n",
       "      <td>N</td>\n",
       "      <td>Y</td>\n",
       "      <td>0</td>\n",
       "      <td>121500.0</td>\n",
       "      <td>513000.0</td>\n",
       "      <td>21865.5</td>\n",
       "      <td>...</td>\n",
       "      <td>0</td>\n",
       "      <td>0</td>\n",
       "      <td>0</td>\n",
       "      <td>0</td>\n",
       "      <td>0.0</td>\n",
       "      <td>0.0</td>\n",
       "      <td>0.0</td>\n",
       "      <td>0.0</td>\n",
       "      <td>0.0</td>\n",
       "      <td>0.0</td>\n",
       "    </tr>\n",
       "  </tbody>\n",
       "</table>\n",
       "<p>5 rows × 122 columns</p>\n",
       "</div>"
      ],
      "text/plain": [
       "   SK_ID_CURR  TARGET NAME_CONTRACT_TYPE CODE_GENDER FLAG_OWN_CAR  \\\n",
       "0      100002       1         Cash loans           M            N   \n",
       "1      100003       0         Cash loans           F            N   \n",
       "2      100004       0    Revolving loans           M            Y   \n",
       "3      100006       0         Cash loans           F            N   \n",
       "4      100007       0         Cash loans           M            N   \n",
       "\n",
       "  FLAG_OWN_REALTY  CNT_CHILDREN  AMT_INCOME_TOTAL  AMT_CREDIT  AMT_ANNUITY  \\\n",
       "0               Y             0          202500.0    406597.5      24700.5   \n",
       "1               N             0          270000.0   1293502.5      35698.5   \n",
       "2               Y             0           67500.0    135000.0       6750.0   \n",
       "3               Y             0          135000.0    312682.5      29686.5   \n",
       "4               Y             0          121500.0    513000.0      21865.5   \n",
       "\n",
       "              ...              FLAG_DOCUMENT_18 FLAG_DOCUMENT_19  \\\n",
       "0             ...                             0                0   \n",
       "1             ...                             0                0   \n",
       "2             ...                             0                0   \n",
       "3             ...                             0                0   \n",
       "4             ...                             0                0   \n",
       "\n",
       "  FLAG_DOCUMENT_20 FLAG_DOCUMENT_21 AMT_REQ_CREDIT_BUREAU_HOUR  \\\n",
       "0                0                0                        0.0   \n",
       "1                0                0                        0.0   \n",
       "2                0                0                        0.0   \n",
       "3                0                0                        NaN   \n",
       "4                0                0                        0.0   \n",
       "\n",
       "  AMT_REQ_CREDIT_BUREAU_DAY  AMT_REQ_CREDIT_BUREAU_WEEK  \\\n",
       "0                       0.0                         0.0   \n",
       "1                       0.0                         0.0   \n",
       "2                       0.0                         0.0   \n",
       "3                       NaN                         NaN   \n",
       "4                       0.0                         0.0   \n",
       "\n",
       "   AMT_REQ_CREDIT_BUREAU_MON  AMT_REQ_CREDIT_BUREAU_QRT  \\\n",
       "0                        0.0                        0.0   \n",
       "1                        0.0                        0.0   \n",
       "2                        0.0                        0.0   \n",
       "3                        NaN                        NaN   \n",
       "4                        0.0                        0.0   \n",
       "\n",
       "   AMT_REQ_CREDIT_BUREAU_YEAR  \n",
       "0                         1.0  \n",
       "1                         0.0  \n",
       "2                         0.0  \n",
       "3                         NaN  \n",
       "4                         0.0  \n",
       "\n",
       "[5 rows x 122 columns]"
      ]
     },
     "execution_count": 1,
     "metadata": {},
     "output_type": "execute_result"
    }
   ],
   "source": [
    "# Import 需要的套件\n",
    "import os\n",
    "import numpy as np\n",
    "import pandas as pd\n",
    "import matplotlib.pyplot as plt\n",
    "\n",
    "%matplotlib inline\n",
    "\n",
    "# 設定 data_path\n",
    "dir_data = './data'\n",
    "\n",
    "f_app = os.path.join(dir_data, 'application_train.csv')\n",
    "print('Path of read in data: %s' % (f_app))\n",
    "app_train = pd.read_csv(f_app)\n",
    "app_train.head()"
   ]
  },
  {
   "cell_type": "code",
   "execution_count": 2,
   "metadata": {},
   "outputs": [
    {
     "data": {
      "text/plain": [
       "count    307499.000000\n",
       "mean      27108.573909\n",
       "std       14493.737315\n",
       "min        1615.500000\n",
       "25%       16524.000000\n",
       "50%       24903.000000\n",
       "75%       34596.000000\n",
       "max      258025.500000\n",
       "Name: AMT_ANNUITY, dtype: float64"
      ]
     },
     "execution_count": 2,
     "metadata": {},
     "output_type": "execute_result"
    }
   ],
   "source": [
    "# app_train['AMT_ANNUITY'].value_counts()\n",
    "app_train['AMT_ANNUITY'].describe()"
   ]
  },
  {
   "cell_type": "code",
   "execution_count": 3,
   "metadata": {},
   "outputs": [
    {
     "name": "stdout",
     "output_type": "stream",
     "text": [
      "q0: 1615.50\n",
      "q1: 6182.91\n",
      "q2: 6750.00\n",
      "q3: 7875.00\n",
      "q4: 8703.00\n",
      "q5: 9000.00\n",
      "q6: 9000.00\n",
      "q7: 9553.50\n",
      "q8: 10125.00\n",
      "q9: 10503.00\n",
      "q10: 11074.50\n",
      "q11: 11430.00\n",
      "q12: 11970.00\n",
      "q13: 12375.00\n",
      "q14: 12838.50\n",
      "q15: 13302.00\n",
      "q16: 13500.00\n",
      "q17: 13500.00\n",
      "q18: 13896.00\n",
      "q19: 14350.50\n",
      "q20: 14701.50\n",
      "q21: 15124.50\n",
      "q22: 15583.50\n",
      "q23: 15970.50\n",
      "q24: 16209.00\n",
      "q25: 16524.00\n",
      "q26: 16852.50\n",
      "q27: 17109.00\n",
      "q28: 17487.00\n",
      "q29: 17806.50\n",
      "q30: 18189.00\n",
      "q31: 18643.50\n",
      "q32: 19102.50\n",
      "q33: 19417.50\n",
      "q34: 19836.00\n",
      "q35: 20151.00\n",
      "q36: 20421.00\n",
      "q37: 20853.00\n",
      "q38: 21186.00\n",
      "q39: 21609.00\n",
      "q40: 21865.50\n",
      "q41: 22018.50\n",
      "q42: 22342.50\n",
      "q43: 22527.00\n",
      "q44: 22972.50\n",
      "q45: 23346.00\n",
      "q46: 23719.50\n",
      "q47: 23931.00\n",
      "q48: 24259.50\n",
      "q49: 24583.59\n",
      "q50: 24903.00\n",
      "q51: 25240.50\n",
      "q52: 25537.50\n",
      "q53: 25960.50\n",
      "q54: 26217.00\n",
      "q55: 26316.00\n",
      "q56: 26640.00\n",
      "q57: 26860.50\n",
      "q58: 27189.00\n",
      "q59: 27558.00\n",
      "q60: 28062.00\n",
      "q61: 28480.50\n",
      "q62: 28917.00\n",
      "q63: 29340.00\n",
      "q64: 29830.50\n",
      "q65: 30078.00\n",
      "q66: 30483.00\n",
      "q67: 30897.00\n",
      "q68: 31275.00\n",
      "q69: 31630.50\n",
      "q70: 32004.00\n",
      "q71: 32458.50\n",
      "q72: 32895.00\n",
      "q73: 33376.50\n",
      "q74: 33984.00\n",
      "q75: 34596.00\n",
      "q76: 35345.16\n",
      "q77: 35806.50\n",
      "q78: 36328.50\n",
      "q79: 36747.00\n",
      "q80: 37516.50\n",
      "q81: 37948.50\n",
      "q82: 38556.00\n",
      "q83: 39456.00\n",
      "q84: 40135.50\n",
      "q85: 40806.00\n",
      "q86: 41845.50\n",
      "q87: 42790.50\n",
      "q88: 43735.50\n",
      "q89: 44991.00\n",
      "q90: 45954.00\n",
      "q91: 47254.50\n",
      "q92: 48465.00\n",
      "q93: 49878.00\n",
      "q94: 51745.50\n",
      "q95: 53325.00\n",
      "q96: 55624.50\n",
      "q97: 58482.00\n",
      "q98: 62964.00\n",
      "q99: 70006.50\n",
      "q100: 258025.50\n"
     ]
    }
   ],
   "source": [
    "for num in range(0, 101):\n",
    "    per = num / 100\n",
    "    print('q%d: %.2f' % (num, app_train['AMT_ANNUITY'].quantile(per)))"
   ]
  },
  {
   "cell_type": "markdown",
   "metadata": {},
   "source": [
    "> 2-1. 將 AMT_ANNUITY 中的 NAs 暫時以中位數填補"
   ]
  },
  {
   "cell_type": "code",
   "execution_count": 4,
   "metadata": {},
   "outputs": [
    {
     "name": "stdout",
     "output_type": "stream",
     "text": [
      "Count of Nan in AMT_ANNUITY is 12\n"
     ]
    },
    {
     "data": {
      "text/plain": [
       "47531   NaN\n",
       "50035   NaN\n",
       "51594   NaN\n",
       "55025   NaN\n",
       "59934   NaN\n",
       "Name: AMT_ANNUITY, dtype: float64"
      ]
     },
     "execution_count": 4,
     "metadata": {},
     "output_type": "execute_result"
    }
   ],
   "source": [
    "print(\"Count of Nan in AMT_ANNUITY is %d\" % (app_train['AMT_ANNUITY'].isna().sum()))\n",
    "app_train.loc[app_train['AMT_ANNUITY'].isna(), 'AMT_ANNUITY'].head()"
   ]
  },
  {
   "cell_type": "code",
   "execution_count": 5,
   "metadata": {},
   "outputs": [
    {
     "name": "stdout",
     "output_type": "stream",
     "text": [
      "The Median value is 24903\n",
      "Count of Nan field after replacement: 0\n"
     ]
    }
   ],
   "source": [
    "annuity_median = app_train['AMT_ANNUITY'].median()\n",
    "print(\"The Median value is %d\" % (annuity_median))\n",
    "\n",
    "app_train.loc[app_train['AMT_ANNUITY'].isna(), ['AMT_ANNUITY']] = annuity_median\n",
    "print('Count of Nan field after replacement: %d' % (app_train['AMT_ANNUITY'].isna().sum()))"
   ]
  },
  {
   "cell_type": "markdown",
   "metadata": {},
   "source": [
    "> 2-2. 將 AMT_ANNUITY 的數值標準化至 -1 ~ 1 間"
   ]
  },
  {
   "cell_type": "code",
   "execution_count": 6,
   "metadata": {},
   "outputs": [
    {
     "data": {
      "text/plain": [
       "{'whiskers': [<matplotlib.lines.Line2D at 0x101ec3d30>,\n",
       "  <matplotlib.lines.Line2D at 0x101ed15c0>],\n",
       " 'caps': [<matplotlib.lines.Line2D at 0x101ed19e8>,\n",
       "  <matplotlib.lines.Line2D at 0x101ed1e10>],\n",
       " 'boxes': [<matplotlib.lines.Line2D at 0x101ec3c18>],\n",
       " 'medians': [<matplotlib.lines.Line2D at 0x101ed1ef0>],\n",
       " 'fliers': [<matplotlib.lines.Line2D at 0x101edf6a0>],\n",
       " 'means': []}"
      ]
     },
     "execution_count": 6,
     "metadata": {},
     "output_type": "execute_result"
    },
    {
     "data": {
      "image/png": "[encoded data removed]",
      "text/plain": [
       "<Figure size 432x288 with 1 Axes>"
      ]
     },
     "metadata": {
      "needs_background": "light"
     },
     "output_type": "display_data"
    }
   ],
   "source": [
    "normal_annuity = (app_train['AMT_ANNUITY'] - app_train['AMT_ANNUITY'].min()) / (app_train['AMT_ANNUITY'].max()-app_train['AMT_ANNUITY'].min()) * 2 - 1\n",
    "plt.boxplot(normal_annuity)"
   ]
  },
  {
   "cell_type": "markdown",
   "metadata": {},
   "source": [
    "> 2-3. 將 AMT_GOOD_PRICE 的 NAs 以眾數填補\n",
    "\n",
    "坑人啊，這欄位是 AMT_GOODS_PRICE，少個 S"
   ]
  },
  {
   "cell_type": "code",
   "execution_count": 7,
   "metadata": {},
   "outputs": [
    {
     "name": "stdout",
     "output_type": "stream",
     "text": [
      "Count of Nan in AMT_GOODS_PRICE is 278\n"
     ]
    },
    {
     "data": {
      "text/html": [
       "<div>\n",
       "<style scoped>\n",
       "    .dataframe tbody tr th:only-of-type {\n",
       "        vertical-align: middle;\n",
       "    }\n",
       "\n",
       "    .dataframe tbody tr th {\n",
       "        vertical-align: top;\n",
       "    }\n",
       "\n",
       "    .dataframe thead th {\n",
       "        text-align: right;\n",
       "    }\n",
       "</style>\n",
       "<table border=\"1\" class=\"dataframe\">\n",
       "  <thead>\n",
       "    <tr style=\"text-align: right;\">\n",
       "      <th></th>\n",
       "      <th>AMT_GOODS_PRICE</th>\n",
       "    </tr>\n",
       "  </thead>\n",
       "  <tbody>\n",
       "    <tr>\n",
       "      <th>724</th>\n",
       "      <td>NaN</td>\n",
       "    </tr>\n",
       "    <tr>\n",
       "      <th>5937</th>\n",
       "      <td>NaN</td>\n",
       "    </tr>\n",
       "    <tr>\n",
       "      <th>6425</th>\n",
       "      <td>NaN</td>\n",
       "    </tr>\n",
       "    <tr>\n",
       "      <th>6703</th>\n",
       "      <td>NaN</td>\n",
       "    </tr>\n",
       "    <tr>\n",
       "      <th>7647</th>\n",
       "      <td>NaN</td>\n",
       "    </tr>\n",
       "  </tbody>\n",
       "</table>\n",
       "</div>"
      ],
      "text/plain": [
       "      AMT_GOODS_PRICE\n",
       "724               NaN\n",
       "5937              NaN\n",
       "6425              NaN\n",
       "6703              NaN\n",
       "7647              NaN"
      ]
     },
     "execution_count": 7,
     "metadata": {},
     "output_type": "execute_result"
    }
   ],
   "source": [
    "print(\"Count of Nan in AMT_GOODS_PRICE is %d\" % (app_train['AMT_GOODS_PRICE'].isna().sum()))\n",
    "app_train.loc[app_train['AMT_GOODS_PRICE'].isna(), ['AMT_GOODS_PRICE']].head()"
   ]
  },
  {
   "cell_type": "code",
   "execution_count": 8,
   "metadata": {},
   "outputs": [
    {
     "name": "stdout",
     "output_type": "stream",
     "text": [
      "The Mode value is 450000\n",
      "Count of Nan field after replacement: 0\n"
     ]
    }
   ],
   "source": [
    "goods_price_mode = app_train['AMT_GOODS_PRICE'].mode().item()\n",
    "print(\"The Mode value is %d\" % (goods_price_mode))\n",
    "\n",
    "app_train.loc[app_train['AMT_GOODS_PRICE'].isna(), ['AMT_GOODS_PRICE']] = goods_price_mode\n",
    "print('Count of Nan field after replacement: %d' % (app_train['AMT_GOODS_PRICE'].isna().sum()))"
   ]
  }
 ],
 "metadata": {
  "kernelspec": {
   "display_name": "Python 3",
   "language": "python",
   "name": "python3"
  },
  "language_info": {
   "codemirror_mode": {
    "name": "ipython",
    "version": 3
   },
   "file_extension": ".py",
   "mimetype": "text/x-python",
   "name": "python",
   "nbconvert_exporter": "python",
   "pygments_lexer": "ipython3",
   "version": "3.7.0"
  }
 },
 "nbformat": 4,
 "nbformat_minor": 2
}
