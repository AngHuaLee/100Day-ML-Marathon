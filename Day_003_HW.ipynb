{
 "cells": [
  {
   "cell_type": "markdown",
   "metadata": {},
   "source": [
    "# 作業1：\n",
    "> 請嘗試想像一個你需要的資料結構 (裡面的值是隨機的)，然後用程式碼範例的方法把它變成 DataFrame\n",
    "> Ex: 想像一個 dataframe 有兩個欄位，一個是國家，一個是人口，求人口數最多的國家"
   ]
  },
  {
   "cell_type": "code",
   "execution_count": 1,
   "metadata": {},
   "outputs": [],
   "source": [
    "import os\n",
    "import numpy as np\n",
    "import pandas as pd\n",
    "\n",
    "dir_data = './data/'\n",
    "f_iso_3166_1 = os.path.join(dir_data, 'iso-3166-1.csv')\n",
    "iso_3166_1 = pd.read_csv(f_iso_3166_1)"
   ]
  },
  {
   "cell_type": "code",
   "execution_count": 2,
   "metadata": {},
   "outputs": [
    {
     "data": {
      "text/plain": [
       "國家/地區                  烏茲別克\n",
       "代碼                       UZ\n",
       "英文名稱             Uzbekistan\n",
       "年份                     1992\n",
       "域名                      .uz\n",
       "ISO 3166-2    ISO 3166-2:UZ\n",
       "備註                      NaN\n",
       "pop                 2.55391\n",
       "Name: 234, dtype: object"
      ]
     },
     "execution_count": 2,
     "metadata": {},
     "output_type": "execute_result"
    }
   ],
   "source": [
    "pop = pd.Series(np.random.randn(len(iso_3166_1))).values\n",
    "iso_3166_1 = iso_3166_1.assign(pop=pop)\n",
    "# print(iso_3166_1.sort_values(by=['pop']))\n",
    "iso_3166_1.iloc[iso_3166_1['pop'].idxmax()]"
   ]
  },
  {
   "cell_type": "markdown",
   "metadata": {},
   "source": [
    "# 作業2：\n",
    "> 1.1. 讀取 txt 檔, 請讀取 text file"
   ]
  },
  {
   "cell_type": "code",
   "execution_count": 3,
   "metadata": {},
   "outputs": [],
   "source": [
    "import io\n",
    "import requests\n",
    "\n",
    "content = requests.get(\"https://raw.githubusercontent.com/vashineyu/slides_and_others/master/tutorial/examples/imagenet_urls_examples.txt\").content\n",
    "f_imagenet = io.StringIO(content.decode('utf-8'))"
   ]
  },
  {
   "cell_type": "markdown",
   "metadata": {},
   "source": [
    "> 1.2 將所提供的 txt 轉成 pandas dataframe"
   ]
  },
  {
   "cell_type": "code",
   "execution_count": 4,
   "metadata": {},
   "outputs": [
    {
     "name": "stdout",
     "output_type": "stream",
     "text": [
      "              id                                                url\n",
      "0  n00015388_157  http://farm1.static.flickr.com/145/430300483_2...\n",
      "1  n00015388_238  http://farm2.static.flickr.com/1005/3352960681...\n",
      "2  n00015388_304  http://farm1.static.flickr.com/27/51009336_a96...\n",
      "3  n00015388_327  http://farm4.static.flickr.com/3025/2444687979...\n",
      "4  n00015388_355  http://img100.imageshack.us/img100/3253/forres...\n"
     ]
    }
   ],
   "source": [
    "imagenet = pd.read_csv(f_imagenet, sep='\\t', names=['id', 'url'])\n",
    "first_5 = imagenet.iloc[0:5, :]\n",
    "print(first_5)"
   ]
  },
  {
   "cell_type": "markdown",
   "metadata": {},
   "source": [
    "> 2. 從所提供的 txt 中的連結讀取圖片，請讀取上面 data frame 中的前 5 張圖片"
   ]
  },
  {
   "cell_type": "code",
   "execution_count": 5,
   "metadata": {},
   "outputs": [
    {
     "data": {
      "text/html": [
       "<table border=\"1\" class=\"dataframe\">\n",
       "  <thead>\n",
       "    <tr style=\"text-align: right;\">\n",
       "      <th></th>\n",
       "      <th>id</th>\n",
       "      <th>url</th>\n",
       "    </tr>\n",
       "  </thead>\n",
       "  <tbody>\n",
       "    <tr>\n",
       "      <th>0</th>\n",
       "      <td>n00015388_157</td>\n",
       "      <td><img src=\"http://farm1.static.flickr.com/145/430300483_21e993670c.jpg\"/></td>\n",
       "    </tr>\n",
       "    <tr>\n",
       "      <th>1</th>\n",
       "      <td>n00015388_238</td>\n",
       "      <td><img src=\"http://farm2.static.flickr.com/1005/3352960681_37b9c1d27b.jpg\"/></td>\n",
       "    </tr>\n",
       "    <tr>\n",
       "      <th>2</th>\n",
       "      <td>n00015388_304</td>\n",
       "      <td><img src=\"http://farm1.static.flickr.com/27/51009336_a9663af3dd.jpg\"/></td>\n",
       "    </tr>\n",
       "    <tr>\n",
       "      <th>3</th>\n",
       "      <td>n00015388_327</td>\n",
       "      <td><img src=\"http://farm4.static.flickr.com/3025/2444687979_bf7bc8df21.jpg\"/></td>\n",
       "    </tr>\n",
       "    <tr>\n",
       "      <th>4</th>\n",
       "      <td>n00015388_355</td>\n",
       "      <td><img src=\"http://img100.imageshack.us/img100/3253/forrest004fs9.jpg\"/></td>\n",
       "    </tr>\n",
       "  </tbody>\n",
       "</table>"
      ],
      "text/plain": [
       "<IPython.core.display.HTML object>"
      ]
     },
     "execution_count": 5,
     "metadata": {},
     "output_type": "execute_result"
    }
   ],
   "source": [
    "from IPython.display import Image, HTML\n",
    "\n",
    "def url_to_html_img(path):\n",
    "    return '<img src=\"'+ path + '\"/>'\n",
    "\n",
    "pd.set_option('display.max_colwidth', -1)\n",
    "\n",
    "HTML(first_5.to_html(escape=False ,formatters=dict(url=url_to_html_img)))"
   ]
  }
 ],
 "metadata": {
  "kernelspec": {
   "display_name": "Python 3",
   "language": "python",
   "name": "python3"
  },
  "language_info": {
   "codemirror_mode": {
    "name": "ipython",
    "version": 3
   },
   "file_extension": ".py",
   "mimetype": "text/x-python",
   "name": "python",
   "nbconvert_exporter": "python",
   "pygments_lexer": "ipython3",
   "version": "3.7.0"
  }
 },
 "nbformat": 4,
 "nbformat_minor": 2
}
