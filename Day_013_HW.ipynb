{
 "cells": [
  {
   "cell_type": "markdown",
   "metadata": {},
   "source": [
    "## 練習時間\n",
    "參考 Day 12 範例程式，離散化你覺得有興趣的欄位，並嘗試找出有趣的訊息"
   ]
  },
  {
   "cell_type": "code",
   "execution_count": 1,
   "metadata": {},
   "outputs": [],
   "source": [
    "# Import 需要的套件\n",
    "import os\n",
    "import numpy as np\n",
    "import pandas as pd\n",
    "\n",
    "import matplotlib.pyplot as plt\n",
    "%matplotlib inline"
   ]
  },
  {
   "cell_type": "markdown",
   "metadata": {},
   "source": [
    "### 之前做過的處理"
   ]
  },
  {
   "cell_type": "code",
   "execution_count": 2,
   "metadata": {},
   "outputs": [],
   "source": [
    "# 設定 data_path\n",
    "dir_data = './data/'\n",
    "f_app_train = os.path.join(dir_data, 'application_train.csv')\n",
    "f_app_test = os.path.join(dir_data, 'application_test.csv')\n",
    "\n",
    "app_train = pd.read_csv(f_app_train)\n",
    "app_test = pd.read_csv(f_app_test)\n",
    "\n",
    "from sklearn.preprocessing import LabelEncoder\n",
    "\n",
    "# Create a label encoder object\n",
    "le = LabelEncoder()\n",
    "le_count = 0\n",
    "\n",
    "# Iterate through the columns\n",
    "for col in app_train:\n",
    "    if app_train[col].dtype == 'object':\n",
    "        # If 2 or fewer unique categories\n",
    "        if len(list(app_train[col].unique())) <= 2:\n",
    "            # Train on the training data\n",
    "            le.fit(app_train[col])\n",
    "            # Transform both training and testing data\n",
    "            app_train[col] = le.transform(app_train[col])\n",
    "            app_test[col] = le.transform(app_test[col])\n",
    "            \n",
    "            # Keep track of how many columns were label encoded\n",
    "            le_count += 1\n",
    "            \n",
    "app_train = pd.get_dummies(app_train)\n",
    "app_test = pd.get_dummies(app_test)\n",
    "\n",
    "# Create an anomalous flag column\n",
    "app_train['DAYS_EMPLOYED_ANOM'] = app_train[\"DAYS_EMPLOYED\"] == 365243\n",
    "app_train['DAYS_EMPLOYED'].replace({365243: np.nan}, inplace = True)\n",
    "# also apply to testing dataset\n",
    "app_test['DAYS_EMPLOYED_ANOM'] = app_test[\"DAYS_EMPLOYED\"] == 365243\n",
    "app_test[\"DAYS_EMPLOYED\"].replace({365243: np.nan}, inplace = True)\n",
    "\n",
    "# absolute the value of DAYS_BIRTH\n",
    "app_train['DAYS_BIRTH'] = abs(app_train['DAYS_BIRTH'])\n",
    "app_test['DAYS_BIRTH'] = abs(app_test['DAYS_BIRTH'])"
   ]
  },
  {
   "cell_type": "code",
   "execution_count": 3,
   "metadata": {},
   "outputs": [],
   "source": [
    "name = 'DAYS_BIRTH'"
   ]
  },
  {
   "cell_type": "code",
   "execution_count": 4,
   "metadata": {},
   "outputs": [
    {
     "data": {
      "text/plain": [
       "(11924.0, 16359.0]    100808\n",
       "(16359.0, 20794.0]     84685\n",
       "(7471.26, 11924.0]     66536\n",
       "(20794.0, 25229.0]     55482\n",
       "Name: equal_width_DAYS_BIRTH, dtype: int64"
      ]
     },
     "execution_count": 4,
     "metadata": {},
     "output_type": "execute_result"
    }
   ],
   "source": [
    "# 等寬劃分\n",
    "app_train[\"equal_width_\" + name] = pd.cut(app_train[name], 4)\n",
    "app_train[\"equal_width_\" + name].value_counts() # 每個 bin 的值的範圍大小都是一樣的"
   ]
  },
  {
   "cell_type": "code",
   "execution_count": 5,
   "metadata": {},
   "outputs": [
    {
     "data": {
      "text/plain": [
       "(15750.0, 19682.0]     76887\n",
       "(7488.999, 12413.0]    76884\n",
       "(12413.0, 15750.0]     76877\n",
       "(19682.0, 25229.0]     76863\n",
       "Name: equal_freq_DAYS_BIRTH, dtype: int64"
      ]
     },
     "execution_count": 5,
     "metadata": {},
     "output_type": "execute_result"
    }
   ],
   "source": [
    "app_train[\"equal_freq_\" + name] = pd.qcut(app_train[name], 4)\n",
    "app_train[\"equal_freq_\" + name].value_counts() # 每個 bin 的資料筆數是一樣的"
   ]
  },
  {
   "cell_type": "code",
   "execution_count": 6,
   "metadata": {},
   "outputs": [
    {
     "data": {
      "text/plain": [
       "(16359.0, 25229.0]    140167\n",
       "(11037.0, 16359.0]    120538\n",
       "(9263.0, 11037.0]      33120\n",
       "(7489.0, 9263.0]       13685\n",
       "Name: customized_grp_DAYS_BIRTH, dtype: int64"
      ]
     },
     "execution_count": 6,
     "metadata": {},
     "output_type": "execute_result"
    }
   ],
   "source": [
    "col_min = app_train[name].min()\n",
    "col_max = app_train[name].max()\n",
    "col_diff = col_max - col_min\n",
    "app_train[\"customized_grp_\" + name] = pd.cut(app_train[name], [col_min, col_min + 0.1 * col_diff, col_min + 0.2 * col_diff, col_min + 0.5 * col_diff, col_max])\n",
    "app_train[\"customized_grp_\" + name].value_counts()"
   ]
  },
  {
   "cell_type": "code",
   "execution_count": 7,
   "metadata": {},
   "outputs": [
    {
     "data": {
      "text/html": [
       "<div>\n",
       "<style scoped>\n",
       "    .dataframe tbody tr th:only-of-type {\n",
       "        vertical-align: middle;\n",
       "    }\n",
       "\n",
       "    .dataframe tbody tr th {\n",
       "        vertical-align: top;\n",
       "    }\n",
       "\n",
       "    .dataframe thead th {\n",
       "        text-align: right;\n",
       "    }\n",
       "</style>\n",
       "<table border=\"1\" class=\"dataframe\">\n",
       "  <thead>\n",
       "    <tr style=\"text-align: right;\">\n",
       "      <th></th>\n",
       "      <th>DAYS_BIRTH</th>\n",
       "      <th>equal_width_DAYS_BIRTH</th>\n",
       "      <th>equal_freq_DAYS_BIRTH</th>\n",
       "      <th>customized_grp_DAYS_BIRTH</th>\n",
       "    </tr>\n",
       "  </thead>\n",
       "  <tbody>\n",
       "    <tr>\n",
       "      <th>0</th>\n",
       "      <td>9461</td>\n",
       "      <td>(7471.26, 11924.0]</td>\n",
       "      <td>(7488.999, 12413.0]</td>\n",
       "      <td>(9263.0, 11037.0]</td>\n",
       "    </tr>\n",
       "    <tr>\n",
       "      <th>1</th>\n",
       "      <td>16765</td>\n",
       "      <td>(16359.0, 20794.0]</td>\n",
       "      <td>(15750.0, 19682.0]</td>\n",
       "      <td>(16359.0, 25229.0]</td>\n",
       "    </tr>\n",
       "    <tr>\n",
       "      <th>2</th>\n",
       "      <td>19046</td>\n",
       "      <td>(16359.0, 20794.0]</td>\n",
       "      <td>(15750.0, 19682.0]</td>\n",
       "      <td>(16359.0, 25229.0]</td>\n",
       "    </tr>\n",
       "    <tr>\n",
       "      <th>3</th>\n",
       "      <td>19005</td>\n",
       "      <td>(16359.0, 20794.0]</td>\n",
       "      <td>(15750.0, 19682.0]</td>\n",
       "      <td>(16359.0, 25229.0]</td>\n",
       "    </tr>\n",
       "    <tr>\n",
       "      <th>4</th>\n",
       "      <td>19932</td>\n",
       "      <td>(16359.0, 20794.0]</td>\n",
       "      <td>(19682.0, 25229.0]</td>\n",
       "      <td>(16359.0, 25229.0]</td>\n",
       "    </tr>\n",
       "  </tbody>\n",
       "</table>\n",
       "</div>"
      ],
      "text/plain": [
       "   DAYS_BIRTH equal_width_DAYS_BIRTH equal_freq_DAYS_BIRTH  \\\n",
       "0        9461     (7471.26, 11924.0]   (7488.999, 12413.0]   \n",
       "1       16765     (16359.0, 20794.0]    (15750.0, 19682.0]   \n",
       "2       19046     (16359.0, 20794.0]    (15750.0, 19682.0]   \n",
       "3       19005     (16359.0, 20794.0]    (15750.0, 19682.0]   \n",
       "4       19932     (16359.0, 20794.0]    (19682.0, 25229.0]   \n",
       "\n",
       "  customized_grp_DAYS_BIRTH  \n",
       "0         (9263.0, 11037.0]  \n",
       "1        (16359.0, 25229.0]  \n",
       "2        (16359.0, 25229.0]  \n",
       "3        (16359.0, 25229.0]  \n",
       "4        (16359.0, 25229.0]  "
      ]
     },
     "execution_count": 7,
     "metadata": {},
     "output_type": "execute_result"
    }
   ],
   "source": [
    "app_train[[name, \"equal_width_\" + name, \"equal_freq_\" + name, \"customized_grp_\" + name]].head()"
   ]
  }
 ],
 "metadata": {
  "kernelspec": {
   "display_name": "Python 3",
   "language": "python",
   "name": "python3"
  },
  "language_info": {
   "codemirror_mode": {
    "name": "ipython",
    "version": 3
   },
   "file_extension": ".py",
   "mimetype": "text/x-python",
   "name": "python",
   "nbconvert_exporter": "python",
   "pygments_lexer": "ipython3",
   "version": "3.7.0"
  }
 },
 "nbformat": 4,
 "nbformat_minor": 2
}
